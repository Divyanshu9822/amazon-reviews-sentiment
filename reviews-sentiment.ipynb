{
 "cells": [
  {
   "cell_type": "markdown",
   "metadata": {},
   "source": [
    "# **Amazon Reviews Sentiment Analysis**\n",
    "---"
   ]
  },
  {
   "cell_type": "markdown",
   "metadata": {},
   "source": [
    "### **Aim**:\n",
    "\n",
    "The primary objective is to conduct sentiment analysis on Amazon product reviews. This involves taking a product link as input, extracting some product details, utilizing Google's Gemini-Pro AI model for sentiment analysis on the reviews, and presenting the insightful results in a user-friendly format.\n"
   ]
  },
  {
   "cell_type": "markdown",
   "metadata": {},
   "source": [
    "### **Importing required libraries for scrapping**"
   ]
  },
  {
   "cell_type": "code",
   "execution_count": 41,
   "metadata": {},
   "outputs": [],
   "source": [
    "from bs4 import BeautifulSoup\n",
    "import requests"
   ]
  },
  {
   "cell_type": "code",
   "execution_count": 42,
   "metadata": {},
   "outputs": [],
   "source": [
    "HEADERS = {\n",
    "    \"User-Agent\": \"Mozilla/5.0 (Macintosh; Intel Mac OS X 10_15_7) AppleWebKit/537.36 (KHTML, like Gecko) Chrome/118.0.0.0 Safari/537.36\",\n",
    "    \"Accept-Language\": \"en-US, en;q=0.5\",\n",
    "}\n",
    "\n",
    "URL = \"https://www.amazon.in/Logitech-MK240-NANO-Mouse-Keyboard/dp/B01N4EV2TL/?_encoding=UTF8&pd_rd_w=iXhOQ&content-id=amzn1.sym.87579d35-fd9c-4df4-a4dd-ff69ee6fde5e%3Aamzn1.symc.acc592a4-4352-4855-9385-357337847763&pf_rd_p=87579d35-fd9c-4df4-a4dd-ff69ee6fde5e&pf_rd_r=F2VCS1EK4NVR0ZFW6Y0W&pd_rd_wg=QK4lQ&pd_rd_r=d66cee94-8b5f-4585-a691-6273ec46a42e&ref_=pd_gw_ci_mcx_mr_hp_d&th=1\""
   ]
  },
  {
   "cell_type": "markdown",
   "metadata": {},
   "source": [
    "### **Getting page source**"
   ]
  },
  {
   "cell_type": "code",
   "execution_count": 43,
   "metadata": {},
   "outputs": [],
   "source": [
    "webpage = requests.get(URL, headers=HEADERS)"
   ]
  },
  {
   "cell_type": "markdown",
   "metadata": {},
   "source": [
    "### **Parsing using BS4**"
   ]
  },
  {
   "cell_type": "code",
   "execution_count": 44,
   "metadata": {},
   "outputs": [],
   "source": [
    "soup = BeautifulSoup(webpage.content, \"html.parser\")"
   ]
  },
  {
   "cell_type": "markdown",
   "metadata": {},
   "source": [
    "### **Extracting product details**\n",
    "\n",
    "- Title\n",
    "- Price\n",
    "- Image\n",
    "- Ratings"
   ]
  },
  {
   "cell_type": "code",
   "execution_count": 46,
   "metadata": {},
   "outputs": [],
   "source": [
    "product_title = soup.find(\"span\", attrs={\"id\": \"productTitle\"}).text.strip()\n",
    "\n",
    "product_currency_symbol = soup.find(\n",
    "    \"span\", attrs={\"class\": \"a-price-symbol\"}\n",
    ").text.strip()\n",
    "\n",
    "product_price_whole = soup.find(\"span\", attrs={\"class\": \"a-price-whole\"}).text.strip()\n",
    "\n",
    "product_price = f\"{product_currency_symbol} {product_price_whole}\"\n",
    "\n",
    "product_image_url = soup.find(\"img\", attrs={\"id\": \"landingImage\"})[\"src\"]\n",
    "\n",
    "product_rating = (\n",
    "    soup.find(\"a\", attrs={\"class\": \"a-popover-trigger a-declarative\"}).text.split()[0]\n",
    "    + \"stars\"\n",
    ")\n",
    "\n",
    "product_ratings_count = (\n",
    "    soup.find(\"span\", attrs={\"id\": \"acrCustomerReviewText\"}).text.strip() + \"Ratings\"\n",
    ")"
   ]
  },
  {
   "cell_type": "markdown",
   "metadata": {},
   "source": [
    "### **Unique URL Construction for Reviews Pages**\n",
    "\n",
    "Since the reviews page URL varies, with different patterns for paginated and non-paginated URLs, and updates dynamically when navigating through pages, a unique URL construction method has been devised.\n",
    "\n",
    "**Key Considerations:**\n",
    "- Handles paginated and non-paginated review page URLs.\n",
    "- Dynamically updates for 'next' and 'prev' actions.\n",
    "- Constructed URL allows for efficient scraping with page number parameterization.\n"
   ]
  },
  {
   "cell_type": "code",
   "execution_count": 47,
   "metadata": {},
   "outputs": [],
   "source": [
    "product_review_link = (\n",
    "    \"https://www.amazon.in\"\n",
    "    + soup.find(\"a\", attrs={\"class\": \"a-link-emphasis a-text-bold\"})[\"href\"].split(\"?\")[\n",
    "        0\n",
    "    ]\n",
    "    + \"/ref=cm_cr_arp_d_paging_btm_next_2?ie=UTF8&reviewerType=all_reviews&pageNumber={}\"\n",
    ")"
   ]
  },
  {
   "cell_type": "markdown",
   "metadata": {},
   "source": [
    "### **Printing details**"
   ]
  },
  {
   "cell_type": "code",
   "execution_count": 48,
   "metadata": {},
   "outputs": [
    {
     "name": "stdout",
     "output_type": "stream",
     "text": [
      "Logitech MK240 Nano Wireless USB Keyboard and Mouse Set, 12 Function Keys 2.4GHz Wireless, 1000DPI, Spill-Resistant Design, PC/Mac, Black/Chartreuse Yellow\n",
      "₹ 1,495.\n",
      "https://m.media-amazon.com/images/I/41tLaG2nSpL._SX300_SY300_QL70_ML2_.jpg\n",
      "4.3stars\n",
      "9,219 ratingsRatings\n",
      "https://www.amazon.in/Logitech-MK240-NANO-Mouse-Keyboard/product-reviews/B01N4EV2TL/ref=cm_cr_dp_d_show_all_btm/ref=cm_cr_arp_d_paging_btm_next_2?ie=UTF8&reviewerType=all_reviews&pageNumber=1\n"
     ]
    }
   ],
   "source": [
    "print(product_title)\n",
    "print(product_price)\n",
    "print(product_image_url)\n",
    "print(product_rating)\n",
    "print(product_ratings_count)\n",
    "print(product_review_link.format(1))"
   ]
  },
  {
   "cell_type": "markdown",
   "metadata": {},
   "source": [
    "### **Function to get reviews from a single page**"
   ]
  },
  {
   "cell_type": "code",
   "execution_count": 49,
   "metadata": {},
   "outputs": [],
   "source": [
    "def get_reviews(review_url):\n",
    "    review_webpage = requests.get(review_url, headers=HEADERS)\n",
    "    review_soup = BeautifulSoup(review_webpage.content, \"html.parser\")\n",
    "    reviews = review_soup.find_all(\n",
    "        \"span\", attrs={\"class\": \"a-size-base review-text review-text-content\"}\n",
    "    )\n",
    "    return [review_text.text.strip() for review_text in reviews]"
   ]
  },
  {
   "cell_type": "markdown",
   "metadata": {},
   "source": [
    "### **Getting reviews text in list for first page**"
   ]
  },
  {
   "cell_type": "code",
   "execution_count": 65,
   "metadata": {},
   "outputs": [],
   "source": [
    "\n",
    "review_url = product_review_link.format(1)\n",
    "reviews = get_reviews(review_url)"
   ]
  },
  {
   "cell_type": "code",
   "execution_count": 66,
   "metadata": {},
   "outputs": [
    {
     "name": "stdout",
     "output_type": "stream",
     "text": [
      "Total Reviews: 10\n"
     ]
    }
   ],
   "source": [
    "print(\"Total Reviews:\", len(reviews))"
   ]
  },
  {
   "cell_type": "markdown",
   "metadata": {},
   "source": [
    "### **Importing Required libraries for analysis**"
   ]
  },
  {
   "cell_type": "code",
   "execution_count": 67,
   "metadata": {},
   "outputs": [
    {
     "data": {
      "text/plain": [
       "True"
      ]
     },
     "execution_count": 67,
     "metadata": {},
     "output_type": "execute_result"
    }
   ],
   "source": [
    "import os\n",
    "from dotenv import load_dotenv\n",
    "import google.generativeai as genai\n",
    "\n",
    "load_dotenv()"
   ]
  },
  {
   "cell_type": "code",
   "execution_count": 68,
   "metadata": {},
   "outputs": [],
   "source": [
    "api_key = os.getenv(\"GENAI_API_KEY\")\n",
    "genai.configure(api_key=api_key)"
   ]
  },
  {
   "cell_type": "markdown",
   "metadata": {},
   "source": [
    "### **Initialising Model**"
   ]
  },
  {
   "cell_type": "code",
   "execution_count": 69,
   "metadata": {},
   "outputs": [],
   "source": [
    "generation_config = {\n",
    "    \"temperature\": 0.9,\n",
    "    \"top_p\": 1,\n",
    "    \"top_k\": 1,\n",
    "    \"max_output_tokens\": 2048,\n",
    "}\n",
    "\n",
    "safety_settings = [\n",
    "    {\"category\": \"HARM_CATEGORY_HARASSMENT\", \"threshold\": \"BLOCK_MEDIUM_AND_ABOVE\"},\n",
    "    {\"category\": \"HARM_CATEGORY_HATE_SPEECH\", \"threshold\": \"BLOCK_MEDIUM_AND_ABOVE\"},\n",
    "    {\n",
    "        \"category\": \"HARM_CATEGORY_SEXUALLY_EXPLICIT\",\n",
    "        \"threshold\": \"BLOCK_MEDIUM_AND_ABOVE\",\n",
    "    },\n",
    "    {\n",
    "        \"category\": \"HARM_CATEGORY_DANGEROUS_CONTENT\",\n",
    "        \"threshold\": \"BLOCK_MEDIUM_AND_ABOVE\",\n",
    "    },\n",
    "]\n",
    "\n",
    "model = genai.GenerativeModel(\n",
    "    model_name=\"gemini-pro\",\n",
    "    generation_config=generation_config,\n",
    "    safety_settings=safety_settings,\n",
    ")"
   ]
  },
  {
   "cell_type": "markdown",
   "metadata": {},
   "source": [
    "### **Constructing Prompt**"
   ]
  },
  {
   "cell_type": "code",
   "execution_count": 73,
   "metadata": {},
   "outputs": [],
   "source": [
    "prompt = \"Please analyse the sentiment of users who purchased the product and gave these reviews. Give detailed summary, pros and cons about product.\"\n",
    "prompt += \"\\n\\nReviews:\\n\"\n",
    "\n",
    "for i, review in enumerate(reviews, start=1):\n",
    "    prompt += f\"Review {i}: {review}\\n\""
   ]
  },
  {
   "cell_type": "markdown",
   "metadata": {},
   "source": [
    "### **Generating sentiment of reviews**"
   ]
  },
  {
   "cell_type": "code",
   "execution_count": null,
   "metadata": {},
   "outputs": [],
   "source": [
    "response = model.generate_content([prompt])"
   ]
  },
  {
   "cell_type": "markdown",
   "metadata": {},
   "source": [
    "### **Display reposnse as markdown**"
   ]
  },
  {
   "cell_type": "code",
   "execution_count": 74,
   "metadata": {},
   "outputs": [],
   "source": [
    "from IPython.display import display, Markdown"
   ]
  },
  {
   "cell_type": "markdown",
   "metadata": {},
   "source": [
    "### **Results**"
   ]
  },
  {
   "cell_type": "code",
   "execution_count": 75,
   "metadata": {},
   "outputs": [
    {
     "data": {
      "text/markdown": [
       "Overall Sentiment:\n",
       "The overall sentiment of the users who purchased the product and gave these reviews is positive. Many users have expressed satisfaction with the product's ease of use, comfort, and functionality. However, there are some minor issues mentioned by a few users, such as the color combination and the absence of a caps lock indicator.\n",
       "\n",
       "Pros:\n",
       "1. Easy to connect and use.\n",
       "2. Comfortable keys and mouse clicks.\n",
       "3. Good ergonomics design.\n",
       "4. Good battery life.\n",
       "5. Keyboard and mouse quality is good.\n",
       "6. Sleek design.\n",
       "7. Good quality mouse with a place to keep the USB connector inside.\n",
       "8. Compact design.\n",
       "9. Fast response.\n",
       "\n",
       "Cons:\n",
       "1. Color combination is dull.\n",
       "2. No hand rest extension on the keyboard.\n",
       "3. Stand cushions are not sticky and often fall off.\n",
       "4. Absence of a caps lock indicator.\n",
       "5. Keys are pressed very easily by minimal pressure.\n",
       "6. Mouse movement slowed down and stopped working after 8 months.\n",
       "\n",
       "Summary:\n",
       "The Logitech wireless keyboard and mouse combo is a popular choice among users due to its ease of use, comfort, and functionality. The keyboard features comfortable keys with a pleasant sound, while the mouse provides good clicks and smooth operation. The combo is easy to connect and use, and the battery life is decent. However, some users have mentioned issues such as the color combination, the lack of a hand rest extension on the keyboard, and the non-sticky stand cushions. Additionally, one user reported that the mouse movement slowed down and stopped working after 8 months of use. Overall, this product is a good choice for users looking for a reliable and affordable wireless keyboard and mouse combo, but they should be aware of the potential issues mentioned by other users."
      ],
      "text/plain": [
       "<IPython.core.display.Markdown object>"
      ]
     },
     "metadata": {},
     "output_type": "display_data"
    }
   ],
   "source": [
    "display(Markdown(response.text))"
   ]
  },
  {
   "cell_type": "markdown",
   "metadata": {},
   "source": [
    "----\n",
    "### **Conclusion**\n",
    "\n",
    "In this notebook, we successfully developed an Amazon Sentiment Analyzer empowered by Google's Gemini-Pro AI model. The tool accepts an Amazon product link as input, extracts some details from the product page, and employs the Gemini-Pro AI model to perform sentiment analysis on customer reviews.\n",
    "\n",
    "**Key Achievements:**\n",
    "1. **Product Details:** Succesfully extracted some product details like title, price, ratings and reviews.\n",
    "\n",
    "2. **Dynamic URL Construction:** Overcame challenges posed by varying review page URLs by implementing a method to construct a unique URL, accommodating both paginated and non-paginated structures.\n",
    "   \n",
    "3. **Gemini-Pro AI Integration:** Leveraged Google's Gemini-Pro AI model for sentiment analysis, enhancing the accuracy and depth of our review evaluations.\n",
    "\n",
    "Thank you for taking the time to explore this notebook! If you have any questions or suggestions for improvement, please feel free to reach out.\n",
    "\n",
    "**Happy coding!**"
   ]
  },
  {
   "cell_type": "markdown",
   "metadata": {},
   "source": [
    "----\n",
    "### **Disclaimer**\n",
    "\n",
    "This Amazon Sentiment Analyzer is created for educational purposes and personal learning. It is done to explore web scraping and test the capabilities of Google's Gemini AI model. \n",
    "\n",
    "**Important Points:**\n",
    "\n",
    "- **Learning Project:** This tool is developed solely for educational and learning purposes.\n",
    "\n",
    "- **No Commercial Use:** It is not intended for any commercial or business applications.\n",
    "\n",
    "By using this tool, you acknowledge its educational nature and agree to use it responsibly. The developers are not liable for any misuse or consequences arising from its use.\n"
   ]
  }
 ],
 "metadata": {
  "kernelspec": {
   "display_name": "Python 3",
   "language": "python",
   "name": "python3"
  },
  "language_info": {
   "codemirror_mode": {
    "name": "ipython",
    "version": 3
   },
   "file_extension": ".py",
   "mimetype": "text/x-python",
   "name": "python",
   "nbconvert_exporter": "python",
   "pygments_lexer": "ipython3",
   "version": "3.11.3"
  }
 },
 "nbformat": 4,
 "nbformat_minor": 2
}
